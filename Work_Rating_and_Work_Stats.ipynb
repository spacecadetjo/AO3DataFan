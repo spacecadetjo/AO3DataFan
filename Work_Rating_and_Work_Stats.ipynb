{
 "cells": [
  {
   "cell_type": "markdown",
   "metadata": {},
   "source": [
    "# AO3 DataFan: How Does a Work's Rating Effect Viewer Stats?\n",
    "\n",
    "Submitted by a reader.\n",
    "\n",
    "The old adage goes that sex sells on the internet, but does it hold true for fanworks on AO3?"
   ]
  },
  {
   "cell_type": "markdown",
   "metadata": {},
   "source": [
    "## Imports and Preprocessing"
   ]
  },
  {
   "cell_type": "code",
   "execution_count": null,
   "metadata": {},
   "outputs": [],
   "source": [
    "import numpy as np\n",
    "import pandas as pd\n",
    "import matplotlib.pyplot as plt\n",
    "import plotly.plotly as py\n",
    "import plotly.graph_objs as go\n",
    "import plotly.offline as py_offline\n",
    "import plotly.figure_factory as ff\n",
    "import scipy.stats as stats\n",
    "py_offline.init_notebook_mode()\n",
    "from sklearn.preprocessing import MinMaxScaler"
   ]
  },
  {
   "cell_type": "code",
   "execution_count": null,
   "metadata": {},
   "outputs": [],
   "source": [
    "data = pd.read_csv('aothree.csv',encoding = \"latin1\")\n",
    "#data.tail()"
   ]
  },
  {
   "cell_type": "code",
   "execution_count": null,
   "metadata": {},
   "outputs": [],
   "source": [
    "df = data.drop_duplicates(subset = ['ID'],  keep = 'last')"
   ]
  },
  {
   "cell_type": "code",
   "execution_count": null,
   "metadata": {},
   "outputs": [],
   "source": [
    "fandomlist = []\n",
    "authorlist = []\n",
    "chapterlist = []\n",
    "postedlist = []\n",
    "taglist = []\n",
    "for index, row in df.iterrows():\n",
    "    workid = row['ID']\n",
    "    \n",
    "    fandoms = row['FANDOMS']\n",
    "    fandom = str(fandoms).split(' ||')\n",
    "    #print(fandoms)\n",
    "    for f in fandom:\n",
    "        if f != '' and f !='nan':\n",
    "            nf = f.split(' :: ')\n",
    "            fandom_id ='{}_{}'.format(workid, nf[0].replace(' ', ''))\n",
    "            fandom_name = nf[1]\n",
    "            fandomlist.append([fandom_id, fandom_name, workid])\n",
    "    \n",
    "    authors = row['AUTHORS']\n",
    "    #print(authors)\n",
    "    author = str(authors).split(' ||')\n",
    "    for a in author:\n",
    "        if a != '' and a != 'nan':\n",
    "            na = str(a).split(' :: ')\n",
    "            author_id ='{}_{}'.format(workid, na[0].replace(' ', ''))\n",
    "            author_name = na[1]\n",
    "            authorlist.append([author_id, author_name, workid])\n",
    "    \n",
    "    \n",
    "    chapters = row['CHAPTERS'] \n",
    "    if 'Jan' in chapters:\n",
    "        c = chapters.replace('Jan', '1').replace('-','/')\n",
    "    elif 'Feb' in chapters:\n",
    "        c = chapters.replace('Feb', '2').replace('-', '/')\n",
    "    elif 'Mar' in chapters:\n",
    "        c = chapters.replace('Mar', '3').replace('-', '/')\n",
    "    elif 'Apr' in chapters:\n",
    "        c = chapters.replace('Apr', '4').replace('-','/')\n",
    "    elif 'May' in chapters:\n",
    "        c = chapters.replace('May', '5').replace('-', '/')\n",
    "    elif 'Jun' in chapters:\n",
    "        c = chapters.replace('Jun', '6').replace('-', '/')\n",
    "    elif 'Jul' in chapters:\n",
    "        c = chapters.replace('Jul', '7').replace('-', '/')\n",
    "    elif 'Aug' in chapters:\n",
    "        c = chapters.replace('Aug', '8').replace('-', '/')\n",
    "    elif 'Sep' in chapters:\n",
    "        c = chapters.replace('Sep', '9').replace('-', '/')\n",
    "    elif 'Oct' in chapters:\n",
    "        c = chapters.replace('Oct', '10').replace('-', '/')\n",
    "    elif 'Nov' in chapters:\n",
    "        c = chapters.replace('Nov', '11').replace('-', '/')\n",
    "    elif 'Dec' in chapters:\n",
    "        c = chapters.replace('Dec', '12').replace('-', '/')\n",
    "    else:\n",
    "        c = chapters\n",
    "    #print(c)\n",
    "    chapterlist.append(c)\n",
    "    p = c.split('/')\n",
    "    postedlist.append(float(p[0]))\n",
    "    \n",
    "    tags = row['FREEFORMS']\n",
    "    tag = str(tags).split(' ||')\n",
    "    for t in tag:\n",
    "        if t != '' and t !='nan':\n",
    "            nt = t.split(' :: ')\n",
    "            tag_id ='{}_{}'.format(workid, nt[0].replace(' ', ''))\n",
    "            tag_name = nt[1]\n",
    "            taglist.append([tag_id, tag_name, workid])\n",
    "    \n",
    "    \n",
    "df_fandom = pd.DataFrame(fandomlist, columns = ['FANDOM_ID', 'FANDOM_NAME', 'WORK_ID'])\n",
    "df_author = pd.DataFrame(authorlist, columns = ['AUTHOR_ID', 'AUTHOR_NAME', 'WORK_ID'])\n",
    "df_tags = pd.DataFrame(taglist, columns = ['FREEFORM_ID', 'FREEFORM_NAME', 'WORK_ID'])\n",
    "df['CHAPTERS'] = chapterlist\n",
    "df['POSTED'] = postedlist"
   ]
  },
  {
   "cell_type": "markdown",
   "metadata": {},
   "source": [
    "## Work stats and Viewer Stats Distribution Across Rating"
   ]
  },
  {
   "cell_type": "code",
   "execution_count": null,
   "metadata": {},
   "outputs": [],
   "source": [
    "df_ratingvalues = pd.DataFrame()\n",
    "ratings = df['RATING'].value_counts()\n",
    "ratings = ratings.drop(['General Audiences, Teen And Up Audiences', 'No rating'])\n",
    "df_ratingvalues = df_ratingvalues.append(ratings)\n",
    "\n",
    "#distribution of Kudos across fic ratings\n",
    "kudos = df.groupby(['RATING'])['KUDOS'].sum()\n",
    "kudos = kudos.drop(['General Audiences, Teen And Up Audiences', 'No rating'])\n",
    "df_ratingvalues = df_ratingvalues.append(kudos)\n",
    "\n",
    "#distribution of comments across ratings\n",
    "comments = df.groupby(['RATING'])['COMMENTS'].sum()\n",
    "comments = comments.drop(['General Audiences, Teen And Up Audiences', 'No rating'])\n",
    "df_ratingvalues = df_ratingvalues.append(comments)\n",
    "\n",
    "#distribution of bookmarks across ratings\n",
    "bookmarks = df.groupby(['RATING'])['BOOKMARKS'].sum()\n",
    "bookmarks = bookmarks.drop(['General Audiences, Teen And Up Audiences', 'No rating'])\n",
    "df_ratingvalues = df_ratingvalues.append(bookmarks)\n",
    "\n",
    "#distribution of hits across ratings\n",
    "hits = df.groupby(['RATING'])['HITS'].sum()\n",
    "hits = hits.drop(['General Audiences, Teen And Up Audiences', 'No rating'])\n",
    "df_ratingvalues = df_ratingvalues.append(hits)\n",
    "df_ratingvalues"
   ]
  },
  {
   "cell_type": "code",
   "execution_count": null,
   "metadata": {},
   "outputs": [],
   "source": [
    "worktrace = go.Pie(labels = ratings.index, values = ratings.values, domain = dict(x = [0, .4]), hole = 0.4, name= \"Works\")\n",
    "kudostrace = go.Pie(labels = kudos.index, values = kudos.values, domain = dict(x = [.42, .75], y = [0, .48]), hole = 0.4, name= \"Kudos\")\n",
    "commenttrace = go.Pie(labels = comments.index, values = comments.values, domain = dict(x =[.77, 1], y = [0, .48]), hole = 0.4, name = \"Comments\")\n",
    "booktrace = go.Pie(labels = bookmarks.index, values = bookmarks.values, domain = dict(x = [.42, .75], y = [.52, 1]), hole = 0.4, name = \"Bookmarks\")\n",
    "hitrace = go.Pie(labels = hits.index, values = hits.values, domain = dict(x = [.77, 1], y = [.52, 1]), hole = 0.4, name= \"Hits\")\n",
    "\n",
    "annotations = [dict(font = dict(size =20), x =.15, y =.5, text = \"Works\", showarrow =  False),\n",
    "               dict(font = dict(size =14), x =.58, y =.8, text = \"Bookmarks\", showarrow =  False),\n",
    "               dict(font= dict(size = 14), x =.58, y =.2, text = \"Kudos\", showarrow = False),\n",
    "               dict(font= dict(size = 14), x =.9, y =.8, text = \"Hits\", showarrow = False),\n",
    "               dict(font= dict(size = 14), x =.935, y =.2, text = \"Comments\", showarrow = False),]\n",
    "\n",
    "layout= go.Layout(title = \"Fanfiction Stats by Ratings\", annotations = annotations)\n",
    "\n",
    "py_offline.iplot(dict(data =[worktrace, kudostrace, commenttrace, booktrace, hitrace],layout = layout))"
   ]
  },
  {
   "cell_type": "markdown",
   "metadata": {},
   "source": [
    "## Testing for Statistical Significance -- do these values make sense?"
   ]
  },
  {
   "cell_type": "code",
   "execution_count": null,
   "metadata": {},
   "outputs": [],
   "source": [
    "st_all = df[[\"RATING\", \"COMMENTS\", \"KUDOS\", \"BOOKMARKS\", \"HITS\"]]\n",
    "\n",
    "st_ga = df[df['RATING'] == 'General Audiences'][['COMMENTS', 'KUDOS', 'BOOKMARKS', 'HITS']]\n",
    "st_te = df[df['RATING'] == 'Teen And Up Audiences'][['COMMENTS', 'KUDOS', 'BOOKMARKS', 'HITS']]\n",
    "st_ma = df[df['RATING'] == 'Mature'][['COMMENTS', 'KUDOS', 'BOOKMARKS', 'HITS']]\n",
    "st_ex = df[df['RATING'] == 'Explicit'][['COMMENTS', 'KUDOS', 'BOOKMARKS', 'HITS']]\n",
    "st_nr = df[df['RATING'] == 'Not Rated'][['COMMENTS', 'KUDOS', 'BOOKMARKS', 'HITS']]\n"
   ]
  },
  {
   "cell_type": "code",
   "execution_count": null,
   "metadata": {
    "scrolled": true
   },
   "outputs": [],
   "source": [
    "st = [st_ga, st_te, st_ma, st_ex, st_nr]\n",
    "names = ['General Audiences', 'Teen And Up Audiences', 'Mature', 'Explicit', 'Not Rated']\n",
    "colors = [\"orange\", \"blue\", \"red\", \"green\", \"purple\"]"
   ]
  },
  {
   "cell_type": "code",
   "execution_count": null,
   "metadata": {},
   "outputs": [],
   "source": [
    "st_com = st_all[[\"RATING\", \"COMMENTS\"]]\n",
    "st_kud = st_all[[\"RATING\", \"KUDOS\"]]\n",
    "st_boo = st_all[[\"RATING\", \"BOOKMARKS\"]]\n",
    "st_hit = st_all[[\"RATING\", \"HITS\"]]"
   ]
  },
  {
   "cell_type": "code",
   "execution_count": null,
   "metadata": {},
   "outputs": [],
   "source": [
    "data = []\n",
    "for num, n in enumerate(names):\n",
    "    d = {\n",
    "        \"type\": \"violin\",\n",
    "        \"x\": st_com[st_com[\"RATING\"] == n][\"RATING\"],\n",
    "        \"y\": st_com[st_com[\"RATING\"] == n][\"COMMENTS\"],\n",
    "        \"legendgroup\": n,\n",
    "        \"scalegroup\": n,\n",
    "        \"name\": n,\n",
    "        \"box\":{\"visible\": True},\n",
    "        \"meanline\": {\"visible\": True},\n",
    "        \"line\":{\"color\":colors[num]}\n",
    "    }\n",
    "    data.append(d)\n",
    "#print(data)\n",
    "layout = {\"yaxis\": {\"zeroline\": False}, \"title\": \"Distribution of Comments Grouped By Fic Ratings<br>(All Fandoms)\"}\n",
    "fig = {\"data\": data, \"layout\":layout}\n",
    "py_offline.iplot(fig)"
   ]
  },
  {
   "cell_type": "markdown",
   "metadata": {},
   "source": [
    "## Do Big Fandoms (>2000 Works) Behave Different From Small Fandoms?"
   ]
  },
  {
   "cell_type": "code",
   "execution_count": null,
   "metadata": {
    "scrolled": true
   },
   "outputs": [],
   "source": [
    "#join fandoms back into the works dataframe\n",
    "fandoms = pd.merge(df, df_fandom, how = 'right', left_on = 'ID', right_on = 'WORK_ID')\n",
    "fandoms = fandoms[[\"FANDOM_NAME\", \"HITS\", \"KUDOS\", \"COMMENTS\", \"BOOKMARKS\", \"RATING\"]]\n",
    "fandoms"
   ]
  },
  {
   "cell_type": "code",
   "execution_count": null,
   "metadata": {
    "scrolled": true
   },
   "outputs": [],
   "source": [
    "bignamefandoms = fandoms[\"FANDOM_NAME\"].value_counts()\n",
    "bignamefandoms = bignamefandoms[bignamefandoms>2000].index\n",
    "\n",
    "bigfandom = fandoms[fandoms[\"FANDOM_NAME\"].isin(bignamefandoms)]\n",
    "bigfandom"
   ]
  },
  {
   "cell_type": "code",
   "execution_count": null,
   "metadata": {},
   "outputs": [],
   "source": [
    "names = ['General Audiences', 'Teen And Up Audiences', 'Mature', 'Explicit', 'Not Rated']\n",
    "colors = [\"orange\", \"blue\", \"red\", \"green\", \"purple\"]\n",
    "data = []\n",
    "for num, n in enumerate(names):\n",
    "    d = {\n",
    "        \"type\": \"violin\",\n",
    "        \"x\": bigfandom[bigfandom[\"RATING\"] == n][\"RATING\"],\n",
    "        \"y\": bigfandom[bigfandom[\"RATING\"] == n][\"COMMENTS\"],\n",
    "        \"legendgroup\": n,\n",
    "        \"scalegroup\": n,\n",
    "        \"name\": n,\n",
    "        \"box\":{\"visible\": True},\n",
    "        \"meanline\": {\"visible\": True},\n",
    "        \"line\":{\"color\":colors[num]}\n",
    "    }\n",
    "    data.append(d)\n",
    "#print(data)\n",
    "layout = {\"yaxis\": {\"zeroline\": False}, \"title\": \"Distribution of Comments Grouped By Fic Ratings<br>(Fandom Works > 2000)\"}\n",
    "fig = {\"data\": data, \"layout\":layout}\n",
    "py_offline.iplot(fig)"
   ]
  },
  {
   "cell_type": "code",
   "execution_count": null,
   "metadata": {
    "scrolled": true
   },
   "outputs": [],
   "source": [
    "smallnamefandoms = fandoms[\"FANDOM_NAME\"].value_counts()\n",
    "smallnamefandoms = smallnamefandoms[smallnamefandoms<2000].index\n",
    "\n",
    "smallfandom = fandoms[fandoms[\"FANDOM_NAME\"].isin(smallnamefandoms)]\n",
    "smallfandom"
   ]
  },
  {
   "cell_type": "code",
   "execution_count": null,
   "metadata": {},
   "outputs": [],
   "source": [
    "names = ['General Audiences', 'Teen And Up Audiences', 'Mature', 'Explicit', 'Not Rated']\n",
    "colors = [\"orange\", \"blue\", \"red\", \"green\", \"purple\"]\n",
    "data = []\n",
    "for num, n in enumerate(names):\n",
    "    d = {\n",
    "        \"type\": \"violin\",\n",
    "        \"x\": smallfandom[smallfandom[\"RATING\"] == n][\"RATING\"],\n",
    "        \"y\": smallfandom[smallfandom[\"RATING\"] == n][\"COMMENTS\"],\n",
    "        \"legendgroup\": n,\n",
    "        \"scalegroup\": n,\n",
    "        \"name\": n,\n",
    "        \"box\":{\"visible\": True},\n",
    "        \"meanline\": {\"visible\": True},\n",
    "        \"line\":{\"color\":colors[num]}\n",
    "    }\n",
    "    data.append(d)\n",
    "#print(data)\n",
    "layout = {\"yaxis\": {\"zeroline\": False}, \"title\": \"Distribution of Comments Grouped By Fic Ratings<br>(Fandom Works < 2000)\"}\n",
    "fig = {\"data\": data, \"layout\":layout}\n",
    "py_offline.iplot(fig)"
   ]
  },
  {
   "cell_type": "markdown",
   "metadata": {},
   "source": [
    "## Significance?"
   ]
  },
  {
   "cell_type": "code",
   "execution_count": null,
   "metadata": {},
   "outputs": [],
   "source": [
    "f_test = []\n",
    "for each in names:\n",
    "    f = st_all[st_all[\"RATING\"] == each][\"COMMENTS\"]\n",
    "    f_test.append(f)\n",
    "stats.kruskal(f_test[0], f_test[1], f_test[2], f_test[3], f_test[4], nan_policy = 'omit')"
   ]
  },
  {
   "cell_type": "code",
   "execution_count": null,
   "metadata": {},
   "outputs": [],
   "source": [
    "#Are T and E rated fics significantly different in the amount of comments they get? What about NR and G?\n",
    "\n",
    "te_st, te_p = stats.mannwhitneyu(f_test[1], f_test[3])\n",
    "print(te_st, te_p)\n",
    "gn_st, gn_p = stats.mannwhitneyu(f_test[0], f_test[4])\n",
    "print(gn_st, gn_p)\n",
    "#there is statistically no difference between comments and work rating."
   ]
  },
  {
   "cell_type": "code",
   "execution_count": null,
   "metadata": {},
   "outputs": [],
   "source": []
  }
 ],
 "metadata": {
  "kernelspec": {
   "display_name": "Python (AO3)",
   "language": "python",
   "name": "aothree"
  },
  "language_info": {
   "codemirror_mode": {
    "name": "ipython",
    "version": 3
   },
   "file_extension": ".py",
   "mimetype": "text/x-python",
   "name": "python",
   "nbconvert_exporter": "python",
   "pygments_lexer": "ipython3",
   "version": "3.6.6"
  }
 },
 "nbformat": 4,
 "nbformat_minor": 2
}
